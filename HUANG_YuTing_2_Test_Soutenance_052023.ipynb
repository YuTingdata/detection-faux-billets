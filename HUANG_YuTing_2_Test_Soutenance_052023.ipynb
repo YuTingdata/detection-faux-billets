{
 "cells": [
  {
   "cell_type": "code",
   "execution_count": 23,
   "metadata": {},
   "outputs": [],
   "source": [
    "import pandas as pd\n",
    "import joblib"
   ]
  },
  {
   "cell_type": "code",
   "execution_count": 24,
   "metadata": {},
   "outputs": [],
   "source": [
    "# changer le nom du fichier de test\n",
    "filename = \"billets_test.csv\"\n"
   ]
  },
  {
   "cell_type": "code",
   "execution_count": 25,
   "metadata": {},
   "outputs": [],
   "source": [
    "# Charger les modeles\n",
    "features_names = ['height_right','margin_low','margin_up','length']\n",
    "model_reglog = joblib.load(\"model_logistic_regression_final.joblib\")\n",
    "model_scale_x = joblib.load(\"model_std_scale_X_final.joblib\")"
   ]
  },
  {
   "cell_type": "code",
   "execution_count": 26,
   "metadata": {},
   "outputs": [
    {
     "name": "stdout",
     "output_type": "stream",
     "text": [
      "   diagonal  height_left  height_right  margin_low  margin_up  length   id\n",
      "0    172.09       103.95        103.73        4.39       3.09  113.19  B_1\n",
      "1    171.52       104.17        104.03        5.27       3.16  111.82  B_2\n",
      "2    171.78       103.80        103.75        3.81       3.24  113.39  B_3\n",
      "3    172.02       104.08        103.99        5.57       3.30  111.10  B_4\n",
      "4    171.79       104.34        104.37        5.00       3.07  111.87  B_5\n"
     ]
    }
   ],
   "source": [
    "tests=pd.read_csv(filename,sep=',')\n",
    "print(tests.head())"
   ]
  },
  {
   "cell_type": "code",
   "execution_count": 27,
   "metadata": {},
   "outputs": [
    {
     "data": {
      "text/plain": [
       "array([[-0.58462624, -0.14196478, -0.26527332,  0.58628751],\n",
       "       [ 0.33698032,  1.19259355,  0.03679477, -0.98402312],\n",
       "       [-0.5231858 , -1.02156005,  0.38201544,  0.81552993],\n",
       "       [ 0.21409944,  1.64755662,  0.64093095, -1.80929586],\n",
       "       [ 1.38146774,  0.78312679, -0.35157849, -0.92671251]])"
      ]
     },
     "execution_count": 27,
     "metadata": {},
     "output_type": "execute_result"
    }
   ],
   "source": [
    "# Transformer les données (centrer/reduire)\n",
    "# on selectionne seulement les features utilisées pour le modeles\n",
    "X_scaled = model_scale_x.transform(tests[features_names]) \n",
    "X_scaled"
   ]
  },
  {
   "cell_type": "code",
   "execution_count": 28,
   "metadata": {},
   "outputs": [
    {
     "data": {
      "text/plain": [
       "array([1, 0, 1, 0, 0], dtype=int64)"
      ]
     },
     "execution_count": 28,
     "metadata": {},
     "output_type": "execute_result"
    }
   ],
   "source": [
    "# Predire les données \n",
    "pred = model_reglog.predict(X_scaled)\n",
    "pred"
   ]
  },
  {
   "cell_type": "code",
   "execution_count": 29,
   "metadata": {},
   "outputs": [],
   "source": [
    "tests[\"predicted\"] = pred\n",
    "# Affichage des prédictions\n",
    "resultat= []\n",
    "for i in tests['predicted'] :\n",
    "    if i == 1 :\n",
    "        resultat.append('Vrai Billet')\n",
    "        \n",
    "    else :\n",
    "        resultat.append('Faux Billet')\n",
    "\n",
    "tests['predicted_str'] = resultat"
   ]
  },
  {
   "cell_type": "code",
   "execution_count": 30,
   "metadata": {},
   "outputs": [
    {
     "data": {
      "text/plain": [
       "array([[5.78540813e-03, 9.94214592e-01],\n",
       "       [9.95007522e-01, 4.99247765e-03],\n",
       "       [7.00737452e-04, 9.99299263e-01],\n",
       "       [9.99969025e-01, 3.09754347e-05],\n",
       "       [9.83844335e-01, 1.61556651e-02]])"
      ]
     },
     "execution_count": 30,
     "metadata": {},
     "output_type": "execute_result"
    }
   ],
   "source": [
    "# prédire la probabilité \n",
    "probabilities = model_reglog.predict_proba(X_scaled)\n",
    "probabilities"
   ]
  },
  {
   "cell_type": "code",
   "execution_count": 31,
   "metadata": {},
   "outputs": [],
   "source": [
    "# Add the columns for the probability\n",
    "tests[\"proba_faux_billet\"] = probabilities[:,0]\n",
    "tests[\"proba_vrai_billet\"] = probabilities[:,1]"
   ]
  },
  {
   "cell_type": "code",
   "execution_count": 32,
   "metadata": {},
   "outputs": [
    {
     "data": {
      "text/html": [
       "<div>\n",
       "<style scoped>\n",
       "    .dataframe tbody tr th:only-of-type {\n",
       "        vertical-align: middle;\n",
       "    }\n",
       "\n",
       "    .dataframe tbody tr th {\n",
       "        vertical-align: top;\n",
       "    }\n",
       "\n",
       "    .dataframe thead th {\n",
       "        text-align: right;\n",
       "    }\n",
       "</style>\n",
       "<table border=\"1\" class=\"dataframe\">\n",
       "  <thead>\n",
       "    <tr style=\"text-align: right;\">\n",
       "      <th></th>\n",
       "      <th>diagonal</th>\n",
       "      <th>height_left</th>\n",
       "      <th>height_right</th>\n",
       "      <th>margin_low</th>\n",
       "      <th>margin_up</th>\n",
       "      <th>length</th>\n",
       "      <th>id</th>\n",
       "      <th>predicted</th>\n",
       "      <th>predicted_str</th>\n",
       "      <th>proba_faux_billet</th>\n",
       "      <th>proba_vrai_billet</th>\n",
       "    </tr>\n",
       "  </thead>\n",
       "  <tbody>\n",
       "    <tr>\n",
       "      <th>0</th>\n",
       "      <td>172.09</td>\n",
       "      <td>103.95</td>\n",
       "      <td>103.73</td>\n",
       "      <td>4.39</td>\n",
       "      <td>3.09</td>\n",
       "      <td>113.19</td>\n",
       "      <td>B_1</td>\n",
       "      <td>1</td>\n",
       "      <td>Vrai Billet</td>\n",
       "      <td>0.005785</td>\n",
       "      <td>0.994215</td>\n",
       "    </tr>\n",
       "    <tr>\n",
       "      <th>1</th>\n",
       "      <td>171.52</td>\n",
       "      <td>104.17</td>\n",
       "      <td>104.03</td>\n",
       "      <td>5.27</td>\n",
       "      <td>3.16</td>\n",
       "      <td>111.82</td>\n",
       "      <td>B_2</td>\n",
       "      <td>0</td>\n",
       "      <td>Faux Billet</td>\n",
       "      <td>0.995008</td>\n",
       "      <td>0.004992</td>\n",
       "    </tr>\n",
       "    <tr>\n",
       "      <th>2</th>\n",
       "      <td>171.78</td>\n",
       "      <td>103.80</td>\n",
       "      <td>103.75</td>\n",
       "      <td>3.81</td>\n",
       "      <td>3.24</td>\n",
       "      <td>113.39</td>\n",
       "      <td>B_3</td>\n",
       "      <td>1</td>\n",
       "      <td>Vrai Billet</td>\n",
       "      <td>0.000701</td>\n",
       "      <td>0.999299</td>\n",
       "    </tr>\n",
       "    <tr>\n",
       "      <th>3</th>\n",
       "      <td>172.02</td>\n",
       "      <td>104.08</td>\n",
       "      <td>103.99</td>\n",
       "      <td>5.57</td>\n",
       "      <td>3.30</td>\n",
       "      <td>111.10</td>\n",
       "      <td>B_4</td>\n",
       "      <td>0</td>\n",
       "      <td>Faux Billet</td>\n",
       "      <td>0.999969</td>\n",
       "      <td>0.000031</td>\n",
       "    </tr>\n",
       "    <tr>\n",
       "      <th>4</th>\n",
       "      <td>171.79</td>\n",
       "      <td>104.34</td>\n",
       "      <td>104.37</td>\n",
       "      <td>5.00</td>\n",
       "      <td>3.07</td>\n",
       "      <td>111.87</td>\n",
       "      <td>B_5</td>\n",
       "      <td>0</td>\n",
       "      <td>Faux Billet</td>\n",
       "      <td>0.983844</td>\n",
       "      <td>0.016156</td>\n",
       "    </tr>\n",
       "  </tbody>\n",
       "</table>\n",
       "</div>"
      ],
      "text/plain": [
       "   diagonal  height_left  height_right  margin_low  margin_up  length   id  \\\n",
       "0    172.09       103.95        103.73        4.39       3.09  113.19  B_1   \n",
       "1    171.52       104.17        104.03        5.27       3.16  111.82  B_2   \n",
       "2    171.78       103.80        103.75        3.81       3.24  113.39  B_3   \n",
       "3    172.02       104.08        103.99        5.57       3.30  111.10  B_4   \n",
       "4    171.79       104.34        104.37        5.00       3.07  111.87  B_5   \n",
       "\n",
       "   predicted predicted_str  proba_faux_billet  proba_vrai_billet  \n",
       "0          1   Vrai Billet           0.005785           0.994215  \n",
       "1          0   Faux Billet           0.995008           0.004992  \n",
       "2          1   Vrai Billet           0.000701           0.999299  \n",
       "3          0   Faux Billet           0.999969           0.000031  \n",
       "4          0   Faux Billet           0.983844           0.016156  "
      ]
     },
     "execution_count": 32,
     "metadata": {},
     "output_type": "execute_result"
    }
   ],
   "source": [
    "tests"
   ]
  }
 ],
 "metadata": {
  "kernelspec": {
   "display_name": "base",
   "language": "python",
   "name": "python3"
  },
  "language_info": {
   "codemirror_mode": {
    "name": "ipython",
    "version": 3
   },
   "file_extension": ".py",
   "mimetype": "text/x-python",
   "name": "python",
   "nbconvert_exporter": "python",
   "pygments_lexer": "ipython3",
   "version": "3.9.16"
  },
  "orig_nbformat": 4
 },
 "nbformat": 4,
 "nbformat_minor": 2
}
